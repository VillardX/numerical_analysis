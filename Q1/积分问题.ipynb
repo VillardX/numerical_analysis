{
 "cells": [
  {
   "cell_type": "code",
   "execution_count": 6,
   "metadata": {},
   "outputs": [],
   "source": [
    "import numpy as np\n",
    "import pandas as pd\n",
    "\n",
    "def fun1(x):#被积函数1，传入的x支持数组\n",
    "    return 2.0 / 3.0 * (x ** 3) * np.exp(x ** 2)\n",
    "def fun2(x):#被积函数2，传入的x支持数组\n",
    "    return 2.0 * x / (x ** 2 - 3)\n",
    "\n",
    "#梯形求积公式,a,b为积分上下限，n为等分数,fun为被积函数\n",
    "def tixing(a, b, n, fun):\n",
    "    h = (b - a)/n\n",
    "    x = np.zeros([1,n+1])#记录各分点，x[0][0]为a,x[0][n]为b\n",
    "    for i in range(n+1):\n",
    "        x[0][i] = a + i * h\n",
    "    y = fun(x)#计算各分点的函数值\n",
    "    if n == 1:\n",
    "        Tn = h / 2 * (y[0][0] + y[0][n])\n",
    "    else:\n",
    "        Tn = h / 2 * (y[0][0] + y[0][n] + 2 * np.sum(y[:,1:n]))#ndarray取和行列范围为[a,b)左开右闭形式\n",
    "    return Tn\n",
    "\n",
    "#辛普森求积公式,a,b为积分上下限，n为等分数,fun为被积函数\n",
    "def xinpusen(a, b, n, fun):\n",
    "    h = (b - a)/n\n",
    "    x = np.zeros([1,n+1])#记录各分点，x[0][0]为a,x[0][n]为b\n",
    "    x1_2 = np.zeros([1,n])#每个小区间的二分点\n",
    "    for i in range(n+1):\n",
    "        x[0][i] = a + i * h\n",
    "    for i in range(n):\n",
    "        x1_2[0][i] = (x[0][i] + x[0][i+1]) / 2.0\n",
    "    y = fun(x)#计算各分点的函数值\n",
    "    y1_2 = fun(x1_2)#计算每个小区间二分点的函数值\n",
    "    if n == 1:\n",
    "        Sn = h / 6 * (y[0][0] + y[0][n] + 2 * (y[0][0] + y[0][n]))\n",
    "    else:\n",
    "        Sn = h / 6 * (y[0][0] + y[0][n] + 2 * np.sum(y[:,1:n]) + 4 * np.sum(y1_2))#ndarray取和行列范围为[a,b)左开右闭形式\n",
    "    return Sn\n",
    "\n",
    "#龙贝格积分\n",
    "#T表初始化，填入T[0][0]\n",
    "def T_initial(w, a, b, fun):#w为维度,a、b为积分上下限，fun为函数解析式\n",
    "    T = np.zeros([w,w])\n",
    "    T[0][0] = (b-a) / 2 * (fun(a) + fun(b))\n",
    "    return T\n",
    "\n",
    "#一次加速\n",
    "def one_N2O(T, x, i, h, fun):#T为T表，x为分点数组，i为累计加速次数,h为间隔长度\n",
    "    len_x = x.shape[1]#未加速前的分点个数\n",
    "    x1_2 = np.zeros([1,len_x - 1])#每个小区间的二分点\n",
    "    for m in range(len_x - 1):\n",
    "        x1_2[0][m] = (x[0][m] + x[0][m+1]) / 2.0\n",
    "    T[i][0] = 1 / 2 * T[i-1][0] + h / 2 * np.sum(fun(x1_2))#T表开新的一行，并计算首列值\n",
    "    for j in range (1 , i + 1):\n",
    "        T[i][j] =  (4 ** j) / (4 ** j - 1) * T[i][j-1] - T[i-1][j-1] / (4 ** j - 1)\n",
    "    total_point = x.shape[1] + x1_2.shape[1]#现在总分点的个数\n",
    "    temp = []\n",
    "    for i in range(total_point):\n",
    "        if i % 2 == 0:#为偶数时\n",
    "            temp.append(x[0][int(i / 2)])\n",
    "        else:\n",
    "            temp.append(x1_2[0][int((i - 1) / 2)])\n",
    "    x = np.array(temp).reshape([1,total_point])\n",
    "    return T, x,  h / 2.0"
   ]
  },
  {
   "cell_type": "code",
   "execution_count": 3,
   "metadata": {},
   "outputs": [
    {
     "name": "stdout",
     "output_type": "stream",
     "text": [
      "等分数： 3759\n",
      "所得复合梯形积分值： 54.59815942495601\n",
      "迭代的绝对误差： 4.998938152311894e-09\n",
      "与参考值的绝对误差： 9.391811772729852e-06\n"
     ]
    }
   ],
   "source": [
    "#复合梯形公式\n",
    "a = 1\n",
    "b = 2\n",
    "cankao = np.exp(4)#参考值\n",
    "\n",
    "initial = tixing(a, b, 1, fun1)\n",
    "ebs = initial - 0\n",
    "i = 1\n",
    "while (ebs >= 0.000000005):\n",
    "    i = i+1\n",
    "    ebs = np.abs(tixing(a, b, i, fun1) - tixing(a, b, i+1, fun1))\n",
    "print(\"复合梯形公式等分数：\", i+1)\n",
    "print(\"复合梯形公式所得积分值：\",tixing(1, 2, i+1, fun1))\n",
    "print(\"复合梯形公式迭代的绝对误差：\",np.abs(tixing(a, b, i, fun1) - tixing(a, b, i+1, fun1)))\n",
    "print(\"复合梯形公式与参考值的绝对误差：\",np.abs(cankao-tixing(a, b, i+1, fun1)))\n",
    "\n"
   ]
  },
  {
   "cell_type": "code",
   "execution_count": 4,
   "metadata": {},
   "outputs": [
    {
     "name": "stdout",
     "output_type": "stream",
     "text": [
      "复合辛普森公式等分数： 110\n",
      "复合辛普森公式所得积分值： 54.5981501622893\n",
      "复合辛普森公式迭代的绝对误差： 4.8046544520730095e-09\n",
      "复合辛普森公式与参考值的绝对误差： 1.291450644202996e-07\n"
     ]
    }
   ],
   "source": [
    "#复合辛普森公式\n",
    "a = 1\n",
    "b = 2\n",
    "cankao = np.exp(4)#参考值\n",
    "\n",
    "initial = xinpusen(a, b, 2, fun1)\n",
    "ebs = initial - 0\n",
    "i = 1\n",
    "while (ebs >= 0.000000005):\n",
    "    i = i+1\n",
    "    ebs = np.abs(xinpusen(a, b, i, fun1) - xinpusen(a, b, i+1, fun1))\n",
    "print(\"复合辛普森公式等分数：\",i+1)\n",
    "print(\"复合辛普森公式所得积分值：\",xinpusen(1, 2, i+1, fun1))\n",
    "print(\"复合辛普森公式迭代的绝对误差：\",np.abs(xinpusen(a, b, i, fun1) - xinpusen(a, b, i+1, fun1)))\n",
    "print(\"复合辛普森公式与参考值的绝对误差：\",np.abs(cankao - xinpusen(a, b, i+1, fun1)))"
   ]
  },
  {
   "cell_type": "code",
   "execution_count": 8,
   "metadata": {},
   "outputs": [
    {
     "name": "stdout",
     "output_type": "stream",
     "text": [
      "加速次数： 7\n",
      "龙贝格算法所得积分值： 54.59815003314422\n",
      "T表：\n",
      "[[146.5011607    0.           0.           0.           0.\n",
      "    0.           0.           0.           0.           0.        ]\n",
      " [ 83.92428316  63.06532399   0.           0.           0.\n",
      "    0.           0.           0.           0.           0.        ]\n",
      " [ 62.61319631  55.50950069  55.00577913   0.           0.\n",
      "    0.           0.           0.           0.           0.        ]\n",
      " [ 56.65349937  54.66693373  54.61076259  54.60449249   0.\n",
      "    0.           0.           0.           0.           0.        ]\n",
      " [ 55.11538708  54.60268299  54.5983996   54.59820337  54.5981787\n",
      "    0.           0.           0.           0.           0.        ]\n",
      " [ 54.72767471  54.59843725  54.5981542   54.59815031  54.5981501\n",
      "   54.59815007   0.           0.           0.           0.        ]\n",
      " [ 54.63054471  54.59816805  54.5981501   54.59815003  54.59815003\n",
      "   54.59815003  54.59815003   0.           0.           0.        ]\n",
      " [ 54.60624955  54.59815116  54.59815003  54.59815003  54.59815003\n",
      "   54.59815003  54.59815003  54.59815003   0.           0.        ]\n",
      " [  0.           0.           0.           0.           0.\n",
      "    0.           0.           0.           0.           0.        ]\n",
      " [  0.           0.           0.           0.           0.\n",
      "    0.           0.           0.           0.           0.        ]]\n",
      "龙贝格算法迭代的绝对误差： 1.269029326067539e-11\n",
      "龙贝格算法与参考值的绝对误差： 1.4210854715202004e-14\n"
     ]
    }
   ],
   "source": [
    "#龙贝格积分\n",
    "w = 10#T表维度\n",
    "a = 1\n",
    "b = 2\n",
    "cankao = np.exp(4)#参考值\n",
    "eps = 0.000000005\n",
    "x = np.array([a,b]).reshape([1,2])#初始化分点\n",
    "h = b - a\n",
    "\n",
    "T = T_initial(w, a, b, fun1)#初始化T表\n",
    "T, x, h = one_N2O(T, x, 1, h, fun1)#先加一次速\n",
    "n = 1#累计加速次数\n",
    "while (np.abs(T[n][n] - T[n - 1][n - 1]) >= eps):\n",
    "    n = n + 1\n",
    "    T, x, h = one_N2O(T, x, n, h, fun1)#加一次速\n",
    "print(\"加速次数：\",n)\n",
    "print(\"龙贝格算法所得积分值：\",T[n][n])\n",
    "print(\"T表：\")\n",
    "print(T)\n",
    "print(\"龙贝格算法迭代的绝对误差：\",np.abs(T[n][n] - T[n - 1][n - 1]))\n",
    "print(\"龙贝格算法与参考值的绝对误差：\",np.abs(T[n][n] - cankao))"
   ]
  },
  {
   "cell_type": "code",
   "execution_count": 13,
   "metadata": {},
   "outputs": [
    {
     "name": "stdout",
     "output_type": "stream",
     "text": [
      "复合梯形公式等分数： 764\n",
      "复合梯形公式所得积分值： 1.7917613728017425\n",
      "复合梯形公式迭代的绝对误差： 4.992964930394805e-09\n",
      "复合梯形公式与参考值的绝对误差： 1.9035736875672171e-06\n"
     ]
    }
   ],
   "source": [
    "#复合梯形公式\n",
    "a = 2\n",
    "b = 3\n",
    "cankao = np.log(6)\n",
    "\n",
    "initial = tixing(a, b, 1, fun2)\n",
    "ebs = initial - 0\n",
    "i = 1\n",
    "while (ebs >= 0.000000005):\n",
    "    i = i+1\n",
    "    ebs = np.abs(tixing(a, b, i, fun2) - tixing(a, b, i+1, fun2))\n",
    "print(\"复合梯形公式等分数：\", i+1)\n",
    "print(\"复合梯形公式所得积分值：\",tixing(a, b, i+1, fun2))\n",
    "print(\"复合梯形公式迭代的绝对误差：\",np.abs(tixing(a, b, i, fun2) - tixing(a, b, i+1, fun2)))\n",
    "print(\"复合梯形公式与参考值的绝对误差：\",np.abs(cankao-tixing(a, b, i+1, fun2)))\n"
   ]
  },
  {
   "cell_type": "code",
   "execution_count": 15,
   "metadata": {
    "scrolled": true
   },
   "outputs": [
    {
     "name": "stdout",
     "output_type": "stream",
     "text": [
      "复合梯形公式等分数： 51\n",
      "复合梯形公式所得积分值： 1.7917595286610115\n",
      "复合梯形公式迭代的绝对误差： 4.8909591932044805e-09\n",
      "复合梯形公式与参考值的绝对误差： 5.943295655619352e-08\n"
     ]
    }
   ],
   "source": [
    "#复合辛普森公式\n",
    "a = 2\n",
    "b = 3\n",
    "cankao = np.log(6)\n",
    "\n",
    "initial = xinpusen(a, b, 2, fun2)\n",
    "ebs = initial - 0\n",
    "i = 1\n",
    "while (ebs >= 0.000000005):\n",
    "    i = i+1\n",
    "    ebs = np.abs(xinpusen(a, b, i, fun2) - xinpusen(a, b, i+1, fun2))\n",
    "print(\"复合梯形公式等分数：\", i+1)\n",
    "print(\"复合梯形公式所得积分值：\",xinpusen(a, b, i+1, fun2))\n",
    "print(\"复合梯形公式迭代的绝对误差：\",np.abs(xinpusen(a, b, i, fun2) - xinpusen(a, b, i+1, fun2)))\n",
    "print(\"复合梯形公式与参考值的绝对误差：\",np.abs(cankao-xinpusen(a, b, i+1, fun2)))"
   ]
  },
  {
   "cell_type": "code",
   "execution_count": 16,
   "metadata": {},
   "outputs": [
    {
     "name": "stdout",
     "output_type": "stream",
     "text": [
      "加速次数： 7\n",
      "龙贝格算法所得积分值： 1.7917594692290668\n",
      "T表：\n",
      "[[2.5        0.         0.         0.         0.         0.\n",
      "  0.         0.         0.         0.        ]\n",
      " [2.01923077 1.85897436 0.         0.         0.         0.\n",
      "  0.         0.         0.         0.        ]\n",
      " [1.85643979 1.80217613 1.79838959 0.         0.         0.\n",
      "  0.         0.         0.         0.        ]\n",
      " [1.80876065 1.7928676  1.79224703 1.79214953 0.         0.\n",
      "  0.         0.         0.         0.        ]\n",
      " [1.79607573 1.79184743 1.79177942 1.791772   1.79177052 0.\n",
      "  0.         0.         0.         0.        ]\n",
      " [1.79284301 1.79176544 1.79175997 1.79175966 1.79175961 1.7917596\n",
      "  0.         0.         0.         0.        ]\n",
      " [1.79203064 1.79175985 1.79175948 1.79175947 1.79175947 1.79175947\n",
      "  1.79175947 0.         0.         0.        ]\n",
      " [1.79182728 1.79175949 1.79175947 1.79175947 1.79175947 1.79175947\n",
      "  1.79175947 1.79175947 0.         0.        ]\n",
      " [0.         0.         0.         0.         0.         0.\n",
      "  0.         0.         0.         0.        ]\n",
      " [0.         0.         0.         0.         0.         0.\n",
      "  0.         0.         0.         0.        ]]\n",
      "龙贝格算法迭代的绝对误差： 6.066045443731127e-10\n",
      "龙贝格算法与参考值的绝对误差： 1.0118572646433677e-12\n"
     ]
    }
   ],
   "source": [
    "#龙贝格积分\n",
    "w = 10#T表维度\n",
    "a = 2\n",
    "b = 3\n",
    "cankao = np.log(6)#参考值\n",
    "eps = 0.000000005\n",
    "x = np.array([a,b]).reshape([1,2])#初始化分点\n",
    "h = b - a\n",
    "\n",
    "T = T_initial(w, a, b, fun2)#初始化T表\n",
    "T, x, h = one_N2O(T, x, 1, h, fun2)#先加一次速\n",
    "n = 1#累计加速次数\n",
    "while (np.abs(T[n][n] - T[n - 1][n - 1]) >= eps):\n",
    "    n = n + 1\n",
    "    T, x, h = one_N2O(T, x, n, h, fun2)#加一次速\n",
    "print(\"加速次数：\",n)\n",
    "print(\"龙贝格算法所得积分值：\",T[n][n])\n",
    "print(\"T表：\")\n",
    "print(T)\n",
    "print(\"龙贝格算法迭代的绝对误差：\",np.abs(T[n][n] - T[n - 1][n - 1]))\n",
    "print(\"龙贝格算法与参考值的绝对误差：\",np.abs(T[n][n] - cankao))"
   ]
  }
 ],
 "metadata": {
  "kernelspec": {
   "display_name": "Python 3",
   "language": "python",
   "name": "python3"
  },
  "language_info": {
   "codemirror_mode": {
    "name": "ipython",
    "version": 3
   },
   "file_extension": ".py",
   "mimetype": "text/x-python",
   "name": "python",
   "nbconvert_exporter": "python",
   "pygments_lexer": "ipython3",
   "version": "3.6.5"
  }
 },
 "nbformat": 4,
 "nbformat_minor": 2
}
