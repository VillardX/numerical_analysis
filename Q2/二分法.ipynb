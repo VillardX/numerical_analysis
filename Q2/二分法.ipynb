{
 "cells": [
  {
   "cell_type": "code",
   "execution_count": 1,
   "metadata": {},
   "outputs": [],
   "source": [
    "import numpy as np\n",
    "import math\n",
    "\n",
    "def fun(x):\n",
    "    return x ** 3 - math.cos(x) - 5 * x - 1\n",
    "\n",
    "#一次二分\n",
    "def erfen(p, fun):#p为一个list，里面存放了区间两个端点的值，fun为函数fun(x)\n",
    "    x_k = (p[0] + p[1]) / 2.0\n",
    "    if fun(x_k) != 0:#未得到精确解\n",
    "        if fun(x_k) * fun(p[0]) < 0:\n",
    "            new_p = [x_k, p[0]]\n",
    "        else:\n",
    "            new_p = [x_k, p[1]]\n",
    "    return new_p, x_k\n",
    "    "
   ]
  },
  {
   "cell_type": "code",
   "execution_count": 4,
   "metadata": {},
   "outputs": [
    {
     "name": "stdout",
     "output_type": "stream",
     "text": [
      "二分法近似根为： -0.39695845916867256\n",
      "二分法迭代次数为： 29\n",
      "二分法迭代根的函数值与0的绝对误差： 1.1996273974190785e-09\n"
     ]
    }
   ],
   "source": [
    "#变量设置\n",
    "a = -1\n",
    "b = 0\n",
    "eps = 0.000000005\n",
    "\n",
    "p = [a,b]\n",
    "x = [a,b]#存放每次二分法所得的值，x_0 = a,x_1 = b仅为方便初始化\n",
    "\n",
    "#迭代开始\n",
    "k = 1\n",
    "while (abs(x[k] - x[k-1]) >= eps):\n",
    "    temp_p, temp_x = erfen(p, fun)\n",
    "    if temp_p == p:#说明找到精确解了\n",
    "        print(\"精确解为：\", temp_x)\n",
    "        print(\"迭代次数为：\", k)\n",
    "        break\n",
    "    else:\n",
    "        p = temp_p#更新两个端点\n",
    "        x.append(temp_x)\n",
    "        k = k + 1\n",
    "print(\"二分法近似根为：\",x[k])\n",
    "print(\"二分法迭代次数为：\",k)\n",
    "print(\"二分法迭代根的函数值与0的绝对误差：\",abs(fun(x[k])))"
   ]
  }
 ],
 "metadata": {
  "kernelspec": {
   "display_name": "Python 3",
   "language": "python",
   "name": "python3"
  },
  "language_info": {
   "codemirror_mode": {
    "name": "ipython",
    "version": 3
   },
   "file_extension": ".py",
   "mimetype": "text/x-python",
   "name": "python",
   "nbconvert_exporter": "python",
   "pygments_lexer": "ipython3",
   "version": "3.6.5"
  }
 },
 "nbformat": 4,
 "nbformat_minor": 2
}
