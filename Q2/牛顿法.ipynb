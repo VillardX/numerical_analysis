{
 "cells": [
  {
   "cell_type": "code",
   "execution_count": 2,
   "metadata": {},
   "outputs": [],
   "source": [
    "import numpy as np\n",
    "import math\n",
    "\n",
    "def fun(x):\n",
    "    return x ** 3 - math.cos(x) - 5 * x - 1\n",
    "\n",
    "def dfun(x):\n",
    "    return 3 * x ** 2 + math.sin(x) - 5\n",
    "\n",
    "def phi(x, fun, dfun):\n",
    "    return x - fun(x) / dfun(x)"
   ]
  },
  {
   "cell_type": "code",
   "execution_count": 5,
   "metadata": {},
   "outputs": [
    {
     "name": "stdout",
     "output_type": "stream",
     "text": [
      "牛顿法近似根为： -0.3969584594128026\n",
      "牛顿法迭代次数为： 5\n",
      "牛顿法迭代根的函数值与0的绝对误差： 0.0\n"
     ]
    }
   ],
   "source": [
    "#变量设置\n",
    "a = -1\n",
    "b = 0\n",
    "eps = 0.000000005\n",
    "\n",
    "x = [a]#作为初始近似解\n",
    "x.append(phi(x[-1], fun, dfun))#先迭代一次\n",
    "\n",
    "#迭代开始\n",
    "k = 1\n",
    "while (abs(x[k] - x[k - 1]) >= eps):\n",
    "    k = k + 1\n",
    "    if dfun(x[k-1]) == 0:\n",
    "        print(\"牛顿法失败。\")\n",
    "        break\n",
    "    else:\n",
    "        x.append(phi(x[k-1], fun, dfun))\n",
    "    \n",
    "print(\"牛顿法近似根为：\",x[k])\n",
    "print(\"牛顿法迭代次数为：\",k)\n",
    "print(\"牛顿法迭代根的函数值与0的绝对误差：\",abs(fun(x[k])))"
   ]
  }
 ],
 "metadata": {
  "kernelspec": {
   "display_name": "Python 3",
   "language": "python",
   "name": "python3"
  },
  "language_info": {
   "codemirror_mode": {
    "name": "ipython",
    "version": 3
   },
   "file_extension": ".py",
   "mimetype": "text/x-python",
   "name": "python",
   "nbconvert_exporter": "python",
   "pygments_lexer": "ipython3",
   "version": "3.6.5"
  }
 },
 "nbformat": 4,
 "nbformat_minor": 2
}
