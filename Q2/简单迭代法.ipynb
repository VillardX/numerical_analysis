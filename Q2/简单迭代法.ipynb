{
 "cells": [
  {
   "cell_type": "code",
   "execution_count": 1,
   "metadata": {},
   "outputs": [],
   "source": [
    "import numpy as np\n",
    "import math\n",
    "\n",
    "def fun(x):\n",
    "    return x ** 3 - math.cos(x) - 5 * x - 1\n",
    "\n",
    "def phi_1(x):#用于求x1，x3的迭代函数\n",
    "    temp = math.cos(x) + 5 * x + 1\n",
    "    if temp >= 0:\n",
    "        result = pow(temp, 1/3.0)\n",
    "    else:\n",
    "        temp = abs(temp)\n",
    "        result = pow(temp, 1/3.0)\n",
    "        result = result * (-1)\n",
    "    return result\n",
    "\n",
    "def phi_2(x):#用于求x2的迭代函数\n",
    "    return (math.cos(x)+ 1) / (x ** 2 - 5)\n",
    "    \n",
    "#一次迭代\n",
    "def diedai(x_temp, phi):#x_temp为当前迭代解，phi为迭代函数\n",
    "    return phi(x_temp)"
   ]
  },
  {
   "cell_type": "code",
   "execution_count": 4,
   "metadata": {},
   "outputs": [
    {
     "name": "stdout",
     "output_type": "stream",
     "text": [
      "简单迭代法近似根为： -0.39695845942101643\n",
      "简单迭代法迭代次数为： 6\n",
      "简单迭代法迭代根的函数值与0的绝对误差： 4.036193601564264e-11\n"
     ]
    }
   ],
   "source": [
    "#变量设置\n",
    "a = -1\n",
    "b = 0\n",
    "eps = 0.000000005\n",
    "\n",
    "x = [a]#作为初始近似解\n",
    "x.append(diedai(a, phi_2))#作为迭代一次的解\n",
    "\n",
    "#迭代开始\n",
    "k = 1\n",
    "while (abs(x[k] - x[k - 1]) >= eps):\n",
    "    temp = diedai(x[k], phi_2)\n",
    "    x.append(temp)\n",
    "    k = k + 1\n",
    "print(\"简单迭代法近似根为：\",x[k])\n",
    "print(\"简单迭代法迭代次数为：\",k)\n",
    "print(\"简单迭代法迭代根的函数值与0的绝对误差：\",abs(fun(x[k])))"
   ]
  }
 ],
 "metadata": {
  "kernelspec": {
   "display_name": "Python 3",
   "language": "python",
   "name": "python3"
  },
  "language_info": {
   "codemirror_mode": {
    "name": "ipython",
    "version": 3
   },
   "file_extension": ".py",
   "mimetype": "text/x-python",
   "name": "python",
   "nbconvert_exporter": "python",
   "pygments_lexer": "ipython3",
   "version": "3.6.5"
  }
 },
 "nbformat": 4,
 "nbformat_minor": 2
}
